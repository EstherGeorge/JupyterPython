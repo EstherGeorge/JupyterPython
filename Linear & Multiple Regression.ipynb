{
 "cells": [
  {
   "cell_type": "markdown",
   "id": "4ba1c5d0-d9f8-48ba-9c0c-d065a44a156b",
   "metadata": {},
   "source": [
    "#### PYTHON LIBRARIES"
   ]
  },
  {
   "cell_type": "code",
   "execution_count": 2,
   "id": "e4c63ac8-4c7f-41ae-8cd1-23cd5c6deb4c",
   "metadata": {},
   "outputs": [],
   "source": [
    "#Importing different pythin libraries\n",
    "import numpy as np #Numeric Python\n",
    "import pandas as pd #Used for data manipulation\n",
    "import matplotlib.pyplot as plt #Used for data visualization\n",
    "import seaborn as sns #used to make satistical graphs of datasets\n",
    "from sklearn import linear_model\n",
    "from sklearn.metrics import r2_score"
   ]
  },
  {
   "cell_type": "markdown",
   "id": "bccddfda-c44a-4566-92fa-e992fbcef798",
   "metadata": {},
   "source": [
    "#### Input Data"
   ]
  },
  {
   "cell_type": "code",
   "execution_count": 5,
   "id": "851925ae-7ba2-410b-8d1a-4373ee95171e",
   "metadata": {},
   "outputs": [
    {
     "data": {
      "text/html": [
       "<div>\n",
       "<style scoped>\n",
       "    .dataframe tbody tr th:only-of-type {\n",
       "        vertical-align: middle;\n",
       "    }\n",
       "\n",
       "    .dataframe tbody tr th {\n",
       "        vertical-align: top;\n",
       "    }\n",
       "\n",
       "    .dataframe thead th {\n",
       "        text-align: right;\n",
       "    }\n",
       "</style>\n",
       "<table border=\"1\" class=\"dataframe\">\n",
       "  <thead>\n",
       "    <tr style=\"text-align: right;\">\n",
       "      <th></th>\n",
       "      <th>CustomerID</th>\n",
       "      <th>Income</th>\n",
       "      <th>#CreditCards</th>\n",
       "      <th>LoanAmountinK</th>\n",
       "      <th>#LoanAccounts</th>\n",
       "    </tr>\n",
       "  </thead>\n",
       "  <tbody>\n",
       "    <tr>\n",
       "      <th>0</th>\n",
       "      <td>5409</td>\n",
       "      <td>37073</td>\n",
       "      <td>1</td>\n",
       "      <td>90</td>\n",
       "      <td>1</td>\n",
       "    </tr>\n",
       "    <tr>\n",
       "      <th>1</th>\n",
       "      <td>5477</td>\n",
       "      <td>50721</td>\n",
       "      <td>1</td>\n",
       "      <td>260</td>\n",
       "      <td>2</td>\n",
       "    </tr>\n",
       "    <tr>\n",
       "      <th>2</th>\n",
       "      <td>5507</td>\n",
       "      <td>43578</td>\n",
       "      <td>2</td>\n",
       "      <td>0</td>\n",
       "      <td>0</td>\n",
       "    </tr>\n",
       "    <tr>\n",
       "      <th>3</th>\n",
       "      <td>8</td>\n",
       "      <td>69553</td>\n",
       "      <td>1</td>\n",
       "      <td>0</td>\n",
       "      <td>0</td>\n",
       "    </tr>\n",
       "    <tr>\n",
       "      <th>4</th>\n",
       "      <td>158</td>\n",
       "      <td>37502</td>\n",
       "      <td>1</td>\n",
       "      <td>0</td>\n",
       "      <td>0</td>\n",
       "    </tr>\n",
       "    <tr>\n",
       "      <th>5</th>\n",
       "      <td>173</td>\n",
       "      <td>34722</td>\n",
       "      <td>1</td>\n",
       "      <td>360</td>\n",
       "      <td>3</td>\n",
       "    </tr>\n",
       "    <tr>\n",
       "      <th>6</th>\n",
       "      <td>5408</td>\n",
       "      <td>56607</td>\n",
       "      <td>1</td>\n",
       "      <td>0</td>\n",
       "      <td>0</td>\n",
       "    </tr>\n",
       "    <tr>\n",
       "      <th>7</th>\n",
       "      <td>5579</td>\n",
       "      <td>55328</td>\n",
       "      <td>1</td>\n",
       "      <td>0</td>\n",
       "      <td>0</td>\n",
       "    </tr>\n",
       "    <tr>\n",
       "      <th>8</th>\n",
       "      <td>5695</td>\n",
       "      <td>42752</td>\n",
       "      <td>1</td>\n",
       "      <td>30</td>\n",
       "      <td>1</td>\n",
       "    </tr>\n",
       "    <tr>\n",
       "      <th>9</th>\n",
       "      <td>5732</td>\n",
       "      <td>71450</td>\n",
       "      <td>1</td>\n",
       "      <td>160</td>\n",
       "      <td>1</td>\n",
       "    </tr>\n",
       "  </tbody>\n",
       "</table>\n",
       "</div>"
      ],
      "text/plain": [
       "   CustomerID  Income  #CreditCards  LoanAmountinK  #LoanAccounts\n",
       "0        5409   37073             1             90              1\n",
       "1        5477   50721             1            260              2\n",
       "2        5507   43578             2              0              0\n",
       "3           8   69553             1              0              0\n",
       "4         158   37502             1              0              0\n",
       "5         173   34722             1            360              3\n",
       "6        5408   56607             1              0              0\n",
       "7        5579   55328             1              0              0\n",
       "8        5695   42752             1             30              1\n",
       "9        5732   71450             1            160              1"
      ]
     },
     "execution_count": 5,
     "metadata": {},
     "output_type": "execute_result"
    }
   ],
   "source": [
    "mydata = pd.read_csv(\"C:\\\\Users\\\\ADMIN\\\\Downloads\\\\banking_loanapproval.csv\") #when pasting the path, add double slashes to the file path\n",
    "mydata.head(10) #this prints the first 10 rows of the file"
   ]
  },
  {
   "cell_type": "code",
   "execution_count": 6,
   "id": "66be6531-7723-42d2-9556-53e06584e51f",
   "metadata": {},
   "outputs": [
    {
     "name": "stdout",
     "output_type": "stream",
     "text": [
      "<class 'pandas.core.frame.DataFrame'>\n",
      "RangeIndex: 1000 entries, 0 to 999\n",
      "Data columns (total 5 columns):\n",
      " #   Column         Non-Null Count  Dtype\n",
      "---  ------         --------------  -----\n",
      " 0   CustomerID     1000 non-null   int64\n",
      " 1   Income         1000 non-null   int64\n",
      " 2   #CreditCards   1000 non-null   int64\n",
      " 3   LoanAmountinK  1000 non-null   int64\n",
      " 4   #LoanAccounts  1000 non-null   int64\n",
      "dtypes: int64(5)\n",
      "memory usage: 39.2 KB\n"
     ]
    }
   ],
   "source": [
    "mydata.info() #this prints info about the file"
   ]
  },
  {
   "cell_type": "markdown",
   "id": "18a9bb5d-25c8-4e52-8e20-639a41d2de38",
   "metadata": {},
   "source": [
    "#### Checking for missing values"
   ]
  },
  {
   "cell_type": "code",
   "execution_count": 7,
   "id": "6fa6e740-5cad-4247-b575-885effc9239e",
   "metadata": {},
   "outputs": [
    {
     "data": {
      "text/plain": [
       "CustomerID       0\n",
       "Income           0\n",
       "#CreditCards     0\n",
       "LoanAmountinK    0\n",
       "#LoanAccounts    0\n",
       "dtype: int64"
      ]
     },
     "execution_count": 7,
     "metadata": {},
     "output_type": "execute_result"
    }
   ],
   "source": [
    "mydata.isnull().sum()"
   ]
  },
  {
   "cell_type": "code",
   "execution_count": 8,
   "id": "34bbc73b-c3c3-47c0-b4b3-3ce25ffef443",
   "metadata": {},
   "outputs": [
    {
     "data": {
      "text/html": [
       "<div>\n",
       "<style scoped>\n",
       "    .dataframe tbody tr th:only-of-type {\n",
       "        vertical-align: middle;\n",
       "    }\n",
       "\n",
       "    .dataframe tbody tr th {\n",
       "        vertical-align: top;\n",
       "    }\n",
       "\n",
       "    .dataframe thead th {\n",
       "        text-align: right;\n",
       "    }\n",
       "</style>\n",
       "<table border=\"1\" class=\"dataframe\">\n",
       "  <thead>\n",
       "    <tr style=\"text-align: right;\">\n",
       "      <th></th>\n",
       "      <th>Income</th>\n",
       "      <th>#CreditCards</th>\n",
       "      <th>LoanAmountinK</th>\n",
       "      <th>#LoanAccounts</th>\n",
       "    </tr>\n",
       "  </thead>\n",
       "  <tbody>\n",
       "    <tr>\n",
       "      <th>count</th>\n",
       "      <td>1000.000000</td>\n",
       "      <td>1000.000000</td>\n",
       "      <td>1000.000000</td>\n",
       "      <td>1000.000000</td>\n",
       "    </tr>\n",
       "    <tr>\n",
       "      <th>mean</th>\n",
       "      <td>49889.122000</td>\n",
       "      <td>1.120000</td>\n",
       "      <td>174.270000</td>\n",
       "      <td>1.338000</td>\n",
       "    </tr>\n",
       "    <tr>\n",
       "      <th>std</th>\n",
       "      <td>11543.376501</td>\n",
       "      <td>0.325124</td>\n",
       "      <td>218.449049</td>\n",
       "      <td>1.374644</td>\n",
       "    </tr>\n",
       "    <tr>\n",
       "      <th>min</th>\n",
       "      <td>17418.000000</td>\n",
       "      <td>1.000000</td>\n",
       "      <td>0.000000</td>\n",
       "      <td>0.000000</td>\n",
       "    </tr>\n",
       "    <tr>\n",
       "      <th>25%</th>\n",
       "      <td>42285.000000</td>\n",
       "      <td>1.000000</td>\n",
       "      <td>0.000000</td>\n",
       "      <td>0.000000</td>\n",
       "    </tr>\n",
       "    <tr>\n",
       "      <th>50%</th>\n",
       "      <td>49396.000000</td>\n",
       "      <td>1.000000</td>\n",
       "      <td>100.000000</td>\n",
       "      <td>1.000000</td>\n",
       "    </tr>\n",
       "    <tr>\n",
       "      <th>75%</th>\n",
       "      <td>57317.000000</td>\n",
       "      <td>1.000000</td>\n",
       "      <td>220.000000</td>\n",
       "      <td>2.000000</td>\n",
       "    </tr>\n",
       "    <tr>\n",
       "      <th>max</th>\n",
       "      <td>80874.000000</td>\n",
       "      <td>2.000000</td>\n",
       "      <td>1680.000000</td>\n",
       "      <td>7.000000</td>\n",
       "    </tr>\n",
       "  </tbody>\n",
       "</table>\n",
       "</div>"
      ],
      "text/plain": [
       "             Income  #CreditCards  LoanAmountinK  #LoanAccounts\n",
       "count   1000.000000   1000.000000    1000.000000    1000.000000\n",
       "mean   49889.122000      1.120000     174.270000       1.338000\n",
       "std    11543.376501      0.325124     218.449049       1.374644\n",
       "min    17418.000000      1.000000       0.000000       0.000000\n",
       "25%    42285.000000      1.000000       0.000000       0.000000\n",
       "50%    49396.000000      1.000000     100.000000       1.000000\n",
       "75%    57317.000000      1.000000     220.000000       2.000000\n",
       "max    80874.000000      2.000000    1680.000000       7.000000"
      ]
     },
     "execution_count": 8,
     "metadata": {},
     "output_type": "execute_result"
    }
   ],
   "source": [
    "dataset = mydata.drop('CustomerID', axis = 1) #this deletes the CustomerID column from the data set\n",
    "dataset.describe() #describe summarizes the data set"
   ]
  },
  {
   "cell_type": "markdown",
   "id": "3d5c207c-89ee-414f-a171-25d28e6ed8ca",
   "metadata": {},
   "source": [
    "#### Exploratory Data Analysis (EDA)"
   ]
  },
  {
   "cell_type": "code",
   "execution_count": 9,
   "id": "0c219996-12f0-4bb4-90bd-ed8b595aee53",
   "metadata": {},
   "outputs": [
    {
     "data": {
      "image/png": "[encoded data removed]",
      "text/plain": [
       "<Figure size 432x288 with 1 Axes>"
      ]
     },
     "metadata": {
      "needs_background": "light"
     },
     "output_type": "display_data"
    }
   ],
   "source": [
    "plt.hist(dataset.Income);"
   ]
  },
  {
   "cell_type": "code",
   "execution_count": 11,
   "id": "d00dad0a-cae6-462d-a370-d32d4498094f",
   "metadata": {},
   "outputs": [
    {
     "data": {
      "image/png": "[encoded data removed]",
      "text/plain": [
       "<Figure size 432x288 with 1 Axes>"
      ]
     },
     "metadata": {
      "needs_background": "light"
     },
     "output_type": "display_data"
    }
   ],
   "source": [
    "plt.hist(dataset.LoanAmountinK);"
   ]
  },
  {
   "cell_type": "code",
   "execution_count": 12,
   "id": "04b0c19a-0a1b-4e82-83d4-956100f7edc7",
   "metadata": {},
   "outputs": [],
   "source": [
    "dataset.rename(columns = {'#LoanAccounts': 'LoanAccounts', '#CreditCards': 'CreditCards'}, inplace = True)\n",
    "#Even if is it one column, use columns"
   ]
  },
  {
   "cell_type": "code",
   "execution_count": 13,
   "id": "6e5a79b3-d650-4200-adca-394a3b40e85e",
   "metadata": {},
   "outputs": [
    {
     "data": {
      "text/html": [
       "<div>\n",
       "<style scoped>\n",
       "    .dataframe tbody tr th:only-of-type {\n",
       "        vertical-align: middle;\n",
       "    }\n",
       "\n",
       "    .dataframe tbody tr th {\n",
       "        vertical-align: top;\n",
       "    }\n",
       "\n",
       "    .dataframe thead th {\n",
       "        text-align: right;\n",
       "    }\n",
       "</style>\n",
       "<table border=\"1\" class=\"dataframe\">\n",
       "  <thead>\n",
       "    <tr style=\"text-align: right;\">\n",
       "      <th></th>\n",
       "      <th>Income</th>\n",
       "      <th>CreditCards</th>\n",
       "      <th>LoanAmountinK</th>\n",
       "      <th>LoanAccounts</th>\n",
       "    </tr>\n",
       "  </thead>\n",
       "  <tbody>\n",
       "    <tr>\n",
       "      <th>0</th>\n",
       "      <td>37073</td>\n",
       "      <td>1</td>\n",
       "      <td>90</td>\n",
       "      <td>1</td>\n",
       "    </tr>\n",
       "    <tr>\n",
       "      <th>1</th>\n",
       "      <td>50721</td>\n",
       "      <td>1</td>\n",
       "      <td>260</td>\n",
       "      <td>2</td>\n",
       "    </tr>\n",
       "    <tr>\n",
       "      <th>2</th>\n",
       "      <td>43578</td>\n",
       "      <td>2</td>\n",
       "      <td>0</td>\n",
       "      <td>0</td>\n",
       "    </tr>\n",
       "    <tr>\n",
       "      <th>3</th>\n",
       "      <td>69553</td>\n",
       "      <td>1</td>\n",
       "      <td>0</td>\n",
       "      <td>0</td>\n",
       "    </tr>\n",
       "    <tr>\n",
       "      <th>4</th>\n",
       "      <td>37502</td>\n",
       "      <td>1</td>\n",
       "      <td>0</td>\n",
       "      <td>0</td>\n",
       "    </tr>\n",
       "    <tr>\n",
       "      <th>5</th>\n",
       "      <td>34722</td>\n",
       "      <td>1</td>\n",
       "      <td>360</td>\n",
       "      <td>3</td>\n",
       "    </tr>\n",
       "  </tbody>\n",
       "</table>\n",
       "</div>"
      ],
      "text/plain": [
       "   Income  CreditCards  LoanAmountinK  LoanAccounts\n",
       "0   37073            1             90             1\n",
       "1   50721            1            260             2\n",
       "2   43578            2              0             0\n",
       "3   69553            1              0             0\n",
       "4   37502            1              0             0\n",
       "5   34722            1            360             3"
      ]
     },
     "execution_count": 13,
     "metadata": {},
     "output_type": "execute_result"
    }
   ],
   "source": [
    "dataset.head(6)"
   ]
  },
  {
   "cell_type": "markdown",
   "id": "3fbf8153-e005-4dd3-a4f1-12dfa94d1737",
   "metadata": {},
   "source": [
    "#### Correlation"
   ]
  },
  {
   "cell_type": "code",
   "execution_count": 17,
   "id": "4bf10453-1f02-4a5c-a7c5-15ebcdc1afd1",
   "metadata": {},
   "outputs": [
    {
     "data": {
      "text/html": [
       "<div>\n",
       "<style scoped>\n",
       "    .dataframe tbody tr th:only-of-type {\n",
       "        vertical-align: middle;\n",
       "    }\n",
       "\n",
       "    .dataframe tbody tr th {\n",
       "        vertical-align: top;\n",
       "    }\n",
       "\n",
       "    .dataframe thead th {\n",
       "        text-align: right;\n",
       "    }\n",
       "</style>\n",
       "<table border=\"1\" class=\"dataframe\">\n",
       "  <thead>\n",
       "    <tr style=\"text-align: right;\">\n",
       "      <th></th>\n",
       "      <th>Income</th>\n",
       "      <th>CreditCards</th>\n",
       "      <th>LoanAmountinK</th>\n",
       "      <th>LoanAccounts</th>\n",
       "    </tr>\n",
       "  </thead>\n",
       "  <tbody>\n",
       "    <tr>\n",
       "      <th>Income</th>\n",
       "      <td>1.00000</td>\n",
       "      <td>-0.03243</td>\n",
       "      <td>-0.01497</td>\n",
       "      <td>-0.01555</td>\n",
       "    </tr>\n",
       "    <tr>\n",
       "      <th>CreditCards</th>\n",
       "      <td>-0.03243</td>\n",
       "      <td>1.00000</td>\n",
       "      <td>0.01617</td>\n",
       "      <td>-0.05277</td>\n",
       "    </tr>\n",
       "    <tr>\n",
       "      <th>LoanAmountinK</th>\n",
       "      <td>-0.01497</td>\n",
       "      <td>0.01617</td>\n",
       "      <td>1.00000</td>\n",
       "      <td>0.76548</td>\n",
       "    </tr>\n",
       "    <tr>\n",
       "      <th>LoanAccounts</th>\n",
       "      <td>-0.01555</td>\n",
       "      <td>-0.05277</td>\n",
       "      <td>0.76548</td>\n",
       "      <td>1.00000</td>\n",
       "    </tr>\n",
       "  </tbody>\n",
       "</table>\n",
       "</div>"
      ],
      "text/plain": [
       "                Income  CreditCards  LoanAmountinK  LoanAccounts\n",
       "Income         1.00000     -0.03243       -0.01497      -0.01555\n",
       "CreditCards   -0.03243      1.00000        0.01617      -0.05277\n",
       "LoanAmountinK -0.01497      0.01617        1.00000       0.76548\n",
       "LoanAccounts  -0.01555     -0.05277        0.76548       1.00000"
      ]
     },
     "execution_count": 17,
     "metadata": {},
     "output_type": "execute_result"
    }
   ],
   "source": [
    "Correlation = round(dataset.corr(),5)\n",
    "Correlation\n",
    "#2 means to tound to 2 decimal places"
   ]
  },
  {
   "cell_type": "code",
   "execution_count": 16,
   "id": "df23e5a8-a079-49bf-acf7-f1dfca3d5728",
   "metadata": {},
   "outputs": [
    {
     "data": {
      "text/plain": [
       "0.7654829825637872"
      ]
     },
     "execution_count": 16,
     "metadata": {},
     "output_type": "execute_result"
    }
   ],
   "source": [
    "Correlation=dataset.LoanAmountinK.corr(dataset.LoanAccounts)\n",
    "Correlation\n",
    "#TO CHECK CORRELATION OF LOANAMOUNT ON LOAN ACCOUNT"
   ]
  },
  {
   "cell_type": "markdown",
   "id": "b98e6bfe-b3ae-4c27-9eb9-147b0e11505e",
   "metadata": {},
   "source": [
    "#### Linear Regression"
   ]
  },
  {
   "cell_type": "code",
   "execution_count": 23,
   "id": "4e73b211-2ac3-4db9-9e00-5c2fcf8f251b",
   "metadata": {},
   "outputs": [
    {
     "data": {
      "text/plain": [
       "0     90\n",
       "1    260\n",
       "2      0\n",
       "3      0\n",
       "4      0\n",
       "Name: LoanAmountinK, dtype: int64"
      ]
     },
     "execution_count": 23,
     "metadata": {},
     "output_type": "execute_result"
    }
   ],
   "source": [
    "#Drop other columns in dataset except LoanAccount\n",
    "x = dataset.drop(columns= ['Income', 'LoanAmountinK', 'CreditCards']) #Independent Variable\n",
    "y = dataset['LoanAmountinK'] #Dependent Variable\n",
    "y.head()"
   ]
  },
  {
   "cell_type": "code",
   "execution_count": 24,
   "id": "a1851c77-2836-4266-8561-c8556b8bc703",
   "metadata": {},
   "outputs": [
    {
     "data": {
      "text/plain": [
       "0     90\n",
       "1    260\n",
       "2      0\n",
       "3      0\n",
       "4      0\n",
       "Name: LoanAmountinK, dtype: int64"
      ]
     },
     "execution_count": 24,
     "metadata": {},
     "output_type": "execute_result"
    }
   ],
   "source": [
    "m = dataset[['LoanAccounts']]\n",
    "v = dataset['LoanAmountinK']\n",
    "v.head()\n",
    "#Another way of renaming your dataset. Instead of deleting columns you can pick out the columns you want."
   ]
  },
  {
   "cell_type": "code",
   "execution_count": 25,
   "id": "54fcced5-40f6-48c1-8b61-618591b2a31f",
   "metadata": {},
   "outputs": [
    {
     "data": {
      "text/plain": [
       "LinearRegression()"
      ]
     },
     "execution_count": 25,
     "metadata": {},
     "output_type": "execute_result"
    }
   ],
   "source": [
    "#To fit a simple Linear regression model\n",
    "mymodel = linear_model.LinearRegression()\n",
    "#You can also use: mymodel = linearRegression()\n",
    "mymodel.fit(x,y)"
   ]
  },
  {
   "cell_type": "code",
   "execution_count": 27,
   "id": "ba9b315c-1c46-4ffb-9fec-6ffd87a5e4fc",
   "metadata": {},
   "outputs": [
    {
     "name": "stdout",
     "output_type": "stream",
     "text": [
      "coefficient: [121.64535035]\n",
      "Intercept: 11.508521228379038\n"
     ]
    }
   ],
   "source": [
    "print('coefficient:', mymodel.coef_)\n",
    "print('Intercept:', mymodel.intercept_)\n"
   ]
  },
  {
   "cell_type": "code",
   "execution_count": 31,
   "id": "9835a421-c052-47d0-8a3c-1796590a2b73",
   "metadata": {},
   "outputs": [
    {
     "name": "stdout",
     "output_type": "stream",
     "text": [
      "LoanAmountinK = 11.51 + 121.65 * LoanAccounts\n"
     ]
    }
   ],
   "source": [
    "print('LoanAmountinK = {} + {} * LoanAccounts'.format(mymodel.intercept_.round(2), mymodel.coef_[0].round(2))) #y=a+bx"
   ]
  },
  {
   "cell_type": "markdown",
   "id": "a47c2370-5dc4-47b6-8a73-1520fbfc4b7a",
   "metadata": {},
   "source": [
    "#### An increase in number of LoanAccounts by 1 unit would lead to an increase in the loan by 121.654k"
   ]
  },
  {
   "cell_type": "code",
   "execution_count": 33,
   "id": "3f588bc1-0c95-4ed0-98be-2c6010c72175",
   "metadata": {},
   "outputs": [
    {
     "data": {
      "text/plain": [
       "0    133.153872\n",
       "1    254.799222\n",
       "2     11.508521\n",
       "3     11.508521\n",
       "4     11.508521\n",
       "dtype: float64"
      ]
     },
     "execution_count": 33,
     "metadata": {},
     "output_type": "execute_result"
    }
   ],
   "source": [
    "#To predict Y from X (LoanAmount from LoanAccounts)\n",
    "y_pred = mymodel.predict(x)\n",
    "y_pred = pd.Series(y_pred) #to covert from series to panda\n",
    "y_pred.head()\n"
   ]
  },
  {
   "cell_type": "code",
   "execution_count": 34,
   "id": "5ebee3c0-fa75-4c87-bbbe-6322c5092fbc",
   "metadata": {},
   "outputs": [
    {
     "data": {
      "text/plain": [
       "0.5859641965947497"
      ]
     },
     "execution_count": 34,
     "metadata": {},
     "output_type": "execute_result"
    }
   ],
   "source": [
    "#to calculate the r square score of the model\n",
    "r_training = r2_score(y, y_pred)\n",
    "r_training"
   ]
  },
  {
   "cell_type": "code",
   "execution_count": 36,
   "id": "526befb5-9c62-4029-be9f-655f21d933bb",
   "metadata": {},
   "outputs": [
    {
     "data": {
      "text/plain": [
       "<AxesSubplot:xlabel='LoanAccounts', ylabel='LoanAmountinK'>"
      ]
     },
     "execution_count": 36,
     "metadata": {},
     "output_type": "execute_result"
    },
    {
     "data": {
      "image/png": "[encoded data removed]",
      "text/plain": [
       "<Figure size 432x288 with 1 Axes>"
      ]
     },
     "metadata": {
      "needs_background": "light"
     },
     "output_type": "display_data"
    }
   ],
   "source": [
    "#to draw a scatter diagram\n",
    "dataset.plot('LoanAccounts', 'LoanAmountinK', kind = 'scatter')"
   ]
  },
  {
   "cell_type": "code",
   "execution_count": 38,
   "id": "462dbce5-2b03-4a20-9c96-b4e4149a6d28",
   "metadata": {},
   "outputs": [
    {
     "name": "stderr",
     "output_type": "stream",
     "text": [
      "C:\\Users\\ADMIN\\anaconda3\\lib\\site-packages\\seaborn\\_decorators.py:36: FutureWarning: Pass the following variables as keyword args: x, y. From version 0.12, the only valid positional argument will be `data`, and passing other arguments without an explicit keyword will result in an error or misinterpretation.\n",
      "  warnings.warn(\n"
     ]
    },
    {
     "data": {
      "text/plain": [
       "<seaborn.axisgrid.FacetGrid at 0x197d408bcd0>"
      ]
     },
     "execution_count": 38,
     "metadata": {},
     "output_type": "execute_result"
    },
    {
     "data": {
      "image/png": "[encoded data removed]",
      "text/plain": [
       "<Figure size 360x360 with 1 Axes>"
      ]
     },
     "metadata": {
      "needs_background": "light"
     },
     "output_type": "display_data"
    }
   ],
   "source": [
    "#To draw regression line\n",
    "sns.lmplot('LoanAccounts', 'LoanAmountinK', data = dataset, fit_reg = True)"
   ]
  },
  {
   "cell_type": "markdown",
   "id": "40a82679-b3df-48a7-96c5-20a1b7bd1a41",
   "metadata": {},
   "source": [
    "#### Multiple Regression"
   ]
  },
  {
   "cell_type": "code",
   "execution_count": 40,
   "id": "d88667b4-3073-46ec-96f2-65286dcd2825",
   "metadata": {},
   "outputs": [
    {
     "data": {
      "text/plain": [
       "<AxesSubplot:>"
      ]
     },
     "execution_count": 40,
     "metadata": {},
     "output_type": "execute_result"
    },
    {
     "data": {
      "image/png": "[encoded data removed]",
      "text/plain": [
       "<Figure size 432x288 with 2 Axes>"
      ]
     },
     "metadata": {
      "needs_background": "light"
     },
     "output_type": "display_data"
    }
   ],
   "source": [
    "#To calculate correlation coefficient (r) between all the variables in the data set\n",
    "sns.heatmap(dataset.corr(),annot=True,cmap='Purples', fmt='.2f', linewidths=0.8)\n",
    "#annot is annotation, cmap (heat map) sets the color of the values with correlation, fmt sets the no of decimal places.\n",
    "#Always put s at the back of the colors."
   ]
  },
  {
   "cell_type": "code",
   "execution_count": 41,
   "id": "5f3829e1-22f6-4e0f-b2ab-bd85d82d5303",
   "metadata": {},
   "outputs": [],
   "source": [
    "a = dataset.drop(columns = ['LoanAmountinK']) #Independent variables (Income, credit card and No of Loan Accounts)\n",
    "b = dataset['LoanAmountinK'] #dependent vaariable"
   ]
  },
  {
   "cell_type": "code",
   "execution_count": 42,
   "id": "e7987a90-2a83-4a50-abf4-ab3cd992470e",
   "metadata": {},
   "outputs": [
    {
     "data": {
      "text/plain": [
       "0     90\n",
       "1    260\n",
       "2      0\n",
       "3      0\n",
       "4      0\n",
       "Name: LoanAmountinK, dtype: int64"
      ]
     },
     "execution_count": 42,
     "metadata": {},
     "output_type": "execute_result"
    }
   ],
   "source": [
    "b.head()"
   ]
  },
  {
   "cell_type": "code",
   "execution_count": 45,
   "id": "81c2889f-46c8-4965-8aae-2ba3a72fb70e",
   "metadata": {},
   "outputs": [
    {
     "data": {
      "text/plain": [
       "(200, 3)"
      ]
     },
     "execution_count": 45,
     "metadata": {},
     "output_type": "execute_result"
    }
   ],
   "source": [
    "from sklearn import model_selection\n",
    "X_train,X_test,Y_train,Y_test = model_selection.train_test_split(a,b,test_size=0.2, random_state=0)\n",
    "X_test.head()\n",
    "X_test.shape\n",
    "\n",
    "#personal, read on random state.\n",
    "#result means 200 for test, 800 for train out of 1000 rows\n",
    "#this is a python algorithm. The one below (47) is the manual way"
   ]
  },
  {
   "cell_type": "code",
   "execution_count": 47,
   "id": "11661e77-97e7-4520-956d-c853d1cd7252",
   "metadata": {},
   "outputs": [
    {
     "data": {
      "text/plain": [
       "(200, 3)"
      ]
     },
     "execution_count": 47,
     "metadata": {},
     "output_type": "execute_result"
    }
   ],
   "source": [
    "#split the data (independent variable) into train/test sets (80/20)\n",
    "a_train = a[:-200] #to exclude the last 200 rows or get the first 800 rows from 1000 records (row,column)\n",
    "a_test = a[-200:] #to capture the last 200 rows or get the last 200 rows\n",
    "\n",
    "#Split the target (dependent variable) into train/test sets\n",
    "b_train = b[:800]\n",
    "b_test = b[800:]\n",
    "\n",
    "a_test.head() #to print the first 5 values\n",
    "a_test.shape\n",
    "\n",
    "#this is the manual way. The one above (45) is the python way of splitting into test and train"
   ]
  },
  {
   "cell_type": "code",
   "execution_count": 48,
   "id": "9ec74a60-c9cd-44ab-bf69-e86addb94717",
   "metadata": {},
   "outputs": [
    {
     "data": {
      "text/plain": [
       "LinearRegression()"
      ]
     },
     "execution_count": 48,
     "metadata": {},
     "output_type": "execute_result"
    }
   ],
   "source": [
    "model = linear_model.LinearRegression()\n",
    "model.fit(a_train, b_train) #manual way"
   ]
  },
  {
   "cell_type": "code",
   "execution_count": 49,
   "id": "c327ea90-60ce-459c-84d5-471378f7ff10",
   "metadata": {},
   "outputs": [
    {
     "data": {
      "text/plain": [
       "LinearRegression()"
      ]
     },
     "execution_count": 49,
     "metadata": {},
     "output_type": "execute_result"
    }
   ],
   "source": [
    "model = linear_model.LinearRegression()\n",
    "model.fit(X_train, Y_train) #From python package"
   ]
  },
  {
   "cell_type": "code",
   "execution_count": 50,
   "id": "f52ef6d7-9561-4aaa-862e-85fd08559c17",
   "metadata": {},
   "outputs": [
    {
     "name": "stdout",
     "output_type": "stream",
     "text": [
      "Coefficient: [1.56042499e-04 3.91959055e+01 1.21467340e+02]\n",
      "Intercept: -40.32041634854335\n"
     ]
    }
   ],
   "source": [
    "#Print the coefficient and intercept of the multiple regression model\n",
    "print('Coefficient:',model.coef_)\n",
    "print('Intercept:',model.intercept_)\n",
    "\n",
    "#you should always print your coefficient and intercept"
   ]
  },
  {
   "cell_type": "code",
   "execution_count": 52,
   "id": "5bce673f-7a6d-4d69-8e68-b1d5510c4812",
   "metadata": {},
   "outputs": [
    {
     "name": "stdout",
     "output_type": "stream",
     "text": [
      "LoanAMountinK = -40.32 + 0.0002 * Income + 39.1959 * CreditCards + 121.4673 * LoanAccounts\n"
     ]
    }
   ],
   "source": [
    "#to print the multiple regression model equation\n",
    "print('LoanAMountinK = {} + {} * Income + {} * CreditCards + {} * LoanAccounts'.format(model.intercept_.round(2),\n",
    "                                    model.coef_[0].round(4),model.coef_[1].round(4), model.coef_[2].round(4)))"
   ]
  },
  {
   "cell_type": "markdown",
   "id": "2ae6ec20-3cb8-450b-9d5a-3943cc074111",
   "metadata": {},
   "source": [
    "#### An increase in number of LoanAccounts by 1 unit would increase in the loan by 121.47K."
   ]
  },
  {
   "cell_type": "markdown",
   "id": "bd0eb798-72b6-47a8-ac41-9e9e4befbc86",
   "metadata": {},
   "source": [
    "#### An increase in number of Creditcards by 1 unit would increase in the loan by 39.20K."
   ]
  },
  {
   "cell_type": "markdown",
   "id": "aa363c68-f6a5-4e52-a0c2-67ae537e84ee",
   "metadata": {},
   "source": [
    "#### An increase in number of Income by 1 unit would increase in the loan by 0.0002K."
   ]
  },
  {
   "cell_type": "code",
   "execution_count": 72,
   "id": "bb40d816-60bb-414e-b66a-df247b9ae7b8",
   "metadata": {},
   "outputs": [
    {
     "data": {
      "text/plain": [
       "0        5.323945\n",
       "1      130.307860\n",
       "2        7.834669\n",
       "3      167.565873\n",
       "4      374.994742\n",
       "          ...    \n",
       "195    126.460788\n",
       "196    129.564785\n",
       "197    247.192856\n",
       "198    246.977517\n",
       "199    125.928527\n",
       "Length: 200, dtype: float64"
      ]
     },
     "execution_count": 72,
     "metadata": {},
     "output_type": "execute_result"
    }
   ],
   "source": [
    "#to predict the value of y from x (LoanAmountinK from income, creditcards and LoanAccounts)\n",
    "y_pred1 = pd.Series(model.predict(X_test))\n",
    "y_pred1"
   ]
  },
  {
   "cell_type": "code",
   "execution_count": 73,
   "id": "e1b7d2b5-27d2-4937-9544-c2c70e91dd4b",
   "metadata": {},
   "outputs": [
    {
     "data": {
      "text/plain": [
       "0        4.646253\n",
       "1      126.194735\n",
       "2      248.810080\n",
       "3      126.194735\n",
       "4      126.485286\n",
       "          ...    \n",
       "195    128.733079\n",
       "196      9.059291\n",
       "197    410.607755\n",
       "198    128.507753\n",
       "199      3.360463\n",
       "Length: 200, dtype: float64"
      ]
     },
     "execution_count": 73,
     "metadata": {},
     "output_type": "execute_result"
    }
   ],
   "source": [
    "#to predict the value of y from x (LoanAmountinK from income, creditcards and LoanAccounts) (manual)\n",
    "y_pred2 = pd.Series(model.predict(a_test))\n",
    "y_pred2"
   ]
  },
  {
   "cell_type": "code",
   "execution_count": 57,
   "id": "f25ff523-070c-4464-a26d-e22a71d48c60",
   "metadata": {},
   "outputs": [
    {
     "data": {
      "text/plain": [
       "993      0\n",
       "859    160\n",
       "298      0\n",
       "553    220\n",
       "672    390\n",
       "      ... \n",
       "679    100\n",
       "722    100\n",
       "215    200\n",
       "653    200\n",
       "150    100\n",
       "Name: LoanAmountinK, Length: 200, dtype: int64"
      ]
     },
     "execution_count": 57,
     "metadata": {},
     "output_type": "execute_result"
    }
   ],
   "source": [
    "Y_test"
   ]
  },
  {
   "cell_type": "code",
   "execution_count": 61,
   "id": "df0c9638-3306-4c7d-ab40-304f28694143",
   "metadata": {},
   "outputs": [
    {
     "data": {
      "text/html": [
       "<div>\n",
       "<style scoped>\n",
       "    .dataframe tbody tr th:only-of-type {\n",
       "        vertical-align: middle;\n",
       "    }\n",
       "\n",
       "    .dataframe tbody tr th {\n",
       "        vertical-align: top;\n",
       "    }\n",
       "\n",
       "    .dataframe thead th {\n",
       "        text-align: right;\n",
       "    }\n",
       "</style>\n",
       "<table border=\"1\" class=\"dataframe\">\n",
       "  <thead>\n",
       "    <tr style=\"text-align: right;\">\n",
       "      <th></th>\n",
       "      <th>Predicted</th>\n",
       "      <th>Actual</th>\n",
       "    </tr>\n",
       "  </thead>\n",
       "  <tbody>\n",
       "    <tr>\n",
       "      <th>0</th>\n",
       "      <td>5.323945</td>\n",
       "      <td>0</td>\n",
       "    </tr>\n",
       "    <tr>\n",
       "      <th>1</th>\n",
       "      <td>130.307860</td>\n",
       "      <td>160</td>\n",
       "    </tr>\n",
       "    <tr>\n",
       "      <th>2</th>\n",
       "      <td>7.834669</td>\n",
       "      <td>0</td>\n",
       "    </tr>\n",
       "    <tr>\n",
       "      <th>3</th>\n",
       "      <td>167.565873</td>\n",
       "      <td>220</td>\n",
       "    </tr>\n",
       "    <tr>\n",
       "      <th>4</th>\n",
       "      <td>374.994742</td>\n",
       "      <td>390</td>\n",
       "    </tr>\n",
       "    <tr>\n",
       "      <th>...</th>\n",
       "      <td>...</td>\n",
       "      <td>...</td>\n",
       "    </tr>\n",
       "    <tr>\n",
       "      <th>195</th>\n",
       "      <td>126.460788</td>\n",
       "      <td>100</td>\n",
       "    </tr>\n",
       "    <tr>\n",
       "      <th>196</th>\n",
       "      <td>129.564785</td>\n",
       "      <td>100</td>\n",
       "    </tr>\n",
       "    <tr>\n",
       "      <th>197</th>\n",
       "      <td>247.192856</td>\n",
       "      <td>200</td>\n",
       "    </tr>\n",
       "    <tr>\n",
       "      <th>198</th>\n",
       "      <td>246.977517</td>\n",
       "      <td>200</td>\n",
       "    </tr>\n",
       "    <tr>\n",
       "      <th>199</th>\n",
       "      <td>125.928527</td>\n",
       "      <td>100</td>\n",
       "    </tr>\n",
       "  </tbody>\n",
       "</table>\n",
       "<p>200 rows × 2 columns</p>\n",
       "</div>"
      ],
      "text/plain": [
       "      Predicted  Actual\n",
       "0      5.323945       0\n",
       "1    130.307860     160\n",
       "2      7.834669       0\n",
       "3    167.565873     220\n",
       "4    374.994742     390\n",
       "..          ...     ...\n",
       "195  126.460788     100\n",
       "196  129.564785     100\n",
       "197  247.192856     200\n",
       "198  246.977517     200\n",
       "199  125.928527     100\n",
       "\n",
       "[200 rows x 2 columns]"
      ]
     },
     "execution_count": 61,
     "metadata": {},
     "output_type": "execute_result"
    }
   ],
   "source": [
    "listt = list(zip(y_pred1, Y_test))\n",
    "check = pd.DataFrame(listt)\n",
    "check.rename(columns={0:'Predicted',1:'Actual'})"
   ]
  },
  {
   "cell_type": "markdown",
   "id": "cecd1b25-7524-42b5-84bd-4f1f2e2f8f6f",
   "metadata": {},
   "source": [
    "#### Checking the model accuracy - Linear Model"
   ]
  },
  {
   "cell_type": "code",
   "execution_count": 62,
   "id": "8aef927e-c0c6-44cf-89c9-b3056b71dfeb",
   "metadata": {},
   "outputs": [
    {
     "data": {
      "text/plain": [
       "0.658747589066187"
      ]
     },
     "execution_count": 62,
     "metadata": {},
     "output_type": "execute_result"
    }
   ],
   "source": [
    "from sklearn.metrics import r2_score\n",
    "r = r2_score(Y_test,y_pred1)\n",
    "r"
   ]
  },
  {
   "cell_type": "markdown",
   "id": "48ea6ab9-86d6-4a3d-834f-ac914eb95886",
   "metadata": {},
   "source": [
    "#### r square of the multiple regression model is 66%"
   ]
  },
  {
   "cell_type": "code",
   "execution_count": 74,
   "id": "f879a4b5-1d5c-4e21-af68-a9bba9383a73",
   "metadata": {},
   "outputs": [
    {
     "data": {
      "text/plain": [
       "0.5148671440205232"
      ]
     },
     "execution_count": 74,
     "metadata": {},
     "output_type": "execute_result"
    }
   ],
   "source": [
    "from sklearn.metrics import r2_score #manual\n",
    "r = r2_score(b_test,y_pred2)\n",
    "r"
   ]
  },
  {
   "cell_type": "markdown",
   "id": "c1fd5e18-fd3e-400c-a5f3-0b4072af5367",
   "metadata": {},
   "source": [
    "#### r square of the multiple regression model is 51%"
   ]
  },
  {
   "cell_type": "code",
   "execution_count": 69,
   "id": "543bae93-ae1a-4131-ac89-9493ab924c43",
   "metadata": {},
   "outputs": [
    {
     "data": {
      "text/plain": [
       "12524.454031611653"
      ]
     },
     "execution_count": 69,
     "metadata": {},
     "output_type": "execute_result"
    }
   ],
   "source": [
    "from sklearn.metrics import mean_squared_error\n",
    "mse = mean_squared_error(Y_test,y_pred1)\n",
    "mse"
   ]
  },
  {
   "cell_type": "code",
   "execution_count": 70,
   "id": "1a011d64-36ce-4421-bc3e-65399945b367",
   "metadata": {},
   "outputs": [
    {
     "data": {
      "text/plain": [
       "54.82033931764315"
      ]
     },
     "execution_count": 70,
     "metadata": {},
     "output_type": "execute_result"
    }
   ],
   "source": [
    "from sklearn.metrics import mean_absolute_error\n",
    "mae = mean_absolute_error(Y_test,y_pred1)\n",
    "mae"
   ]
  },
  {
   "cell_type": "markdown",
   "id": "292dffc3-c421-45eb-8a72-10d76d9e9e1c",
   "metadata": {},
   "source": [
    "#### Plotting Actual vs. Predicted"
   ]
  },
  {
   "cell_type": "code",
   "execution_count": 67,
   "id": "3e65c6a9-9936-41c6-8408-944c71a0a784",
   "metadata": {},
   "outputs": [],
   "source": [
    "x_index = np.arange(200)\n",
    "#number of rows we are working with"
   ]
  },
  {
   "cell_type": "code",
   "execution_count": 71,
   "id": "8e1f4b52-6c22-4c95-9969-8a65f1fdeaba",
   "metadata": {},
   "outputs": [
    {
     "data": {
      "text/plain": [
       "<matplotlib.legend.Legend at 0x197d440bfa0>"
      ]
     },
     "execution_count": 71,
     "metadata": {},
     "output_type": "execute_result"
    },
    {
     "data": {
      "image/png": "[encoded data removed]",
      "text/plain": [
       "<Figure size 432x288 with 1 Axes>"
      ]
     },
     "metadata": {
      "needs_background": "light"
     },
     "output_type": "display_data"
    }
   ],
   "source": [
    "fig = plt.figure()\n",
    "axes = fig.add_axes([0,0,2,2])\n",
    "\n",
    "axes.plot(x_index,y_pred1,label='Predicted',marker=',',color = 'blue',lw=2,markersize = 8)\n",
    "axes.plot(x_index,Y_test,label='Actual',marker='.',color='red',lw=2,markersize =8)\n",
    "axes.legend()"
   ]
  },
  {
   "cell_type": "code",
   "execution_count": null,
   "id": "3d217234-9cc5-46e4-bcd6-0d7dbb84bbf5",
   "metadata": {},
   "outputs": [],
   "source": []
  }
 ],
 "metadata": {
  "kernelspec": {
   "display_name": "Python 3 (ipykernel)",
   "language": "python",
   "name": "python3"
  },
  "language_info": {
   "codemirror_mode": {
    "name": "ipython",
    "version": 3
   },
   "file_extension": ".py",
   "mimetype": "text/x-python",
   "name": "python",
   "nbconvert_exporter": "python",
   "pygments_lexer": "ipython3",
   "version": "3.9.12"
  }
 },
 "nbformat": 4,
 "nbformat_minor": 5
}
